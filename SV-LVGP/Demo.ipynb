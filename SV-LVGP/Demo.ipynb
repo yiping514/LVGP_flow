{
 "cells": [
  {
   "cell_type": "code",
   "execution_count": 1,
   "metadata": {},
   "outputs": [
    {
     "ename": "",
     "evalue": "",
     "output_type": "error",
     "traceback": [
      "\u001b[1;31mThe Kernel crashed while executing code in the the current cell or a previous cell. Please review the code in the cell(s) to identify a possible cause of the failure. Click <a href='https://aka.ms/vscodeJupyterKernelCrash'>here</a> for more info. View Jupyter <a href='command:jupyter.viewOutput'>log</a> for further details."
     ]
    },
    {
     "ename": "",
     "evalue": "",
     "output_type": "error",
     "traceback": [
      "\u001b[1;31mCanceled future for execute_request message before replies were done"
     ]
    }
   ],
   "source": [
    "import numpy as np\n",
    "import matplotlib.pyplot as plt\n",
    "from sklearn.model_selection import train_test_split\n",
    "import itertools\n",
    "import numpy as np\n",
    "import gpflow\n",
    "import gpflow as gpf\n",
    "import tensorflow as tf\n",
    "from gpflow.ci_utils import ci_niter\n",
    "import time\n",
    "from sklearn.metrics import r2_score\n",
    "from typing import Dict, Optional, Tuple\n",
    "import h5py\n",
    "import random\n",
    "\n",
    "np.random.seed(0)\n",
    "rng = np.random.RandomState(123)\n",
    "%matplotlib inline\n",
    "plt.style.use(\"ggplot\")"
   ]
  },
  {
   "cell_type": "markdown",
   "metadata": {},
   "source": [
    "# Import data set"
   ]
  },
  {
   "cell_type": "code",
   "execution_count": 2,
   "metadata": {},
   "outputs": [],
   "source": [
    "m1=h5py.File('X.mat','r')\n",
    "X=m1['X'][:]\n",
    "X=X.transpose()\n",
    "X[:,2:]=X[:,2:]-1\n",
    "\n",
    "\n",
    "m2=h5py.File('YN_SD0.4.mat','r')\n",
    "Y=m2['Y'][:]\n",
    "Y=Y.transpose()"
   ]
  },
  {
   "cell_type": "markdown",
   "metadata": {},
   "source": [
    "# Normalize the output"
   ]
  },
  {
   "cell_type": "code",
   "execution_count": 3,
   "metadata": {},
   "outputs": [],
   "source": [
    "ma=h5py.File('Y_min_SD0.4.mat','r')\n",
    "Ymin=ma['Y_min'][:]\n",
    "Ymin=Ymin.transpose()\n",
    "\n",
    "mb=h5py.File('Yrange_SD0.4.mat','r')\n",
    "Yrange=mb['Yrange'][:]\n",
    "Yrange=Yrange.transpose()"
   ]
  },
  {
   "cell_type": "code",
   "execution_count": 4,
   "metadata": {},
   "outputs": [],
   "source": [
    "X_train, X_test, y_train, y_test = train_test_split(X, Y, random_state=1,test_size=0.1)"
   ]
  },
  {
   "cell_type": "code",
   "execution_count": 5,
   "metadata": {},
   "outputs": [
    {
     "data": {
      "text/plain": [
       "(45000, 3)"
      ]
     },
     "execution_count": 5,
     "metadata": {},
     "output_type": "execute_result"
    }
   ],
   "source": [
    "X_train.shape"
   ]
  },
  {
   "cell_type": "code",
   "execution_count": 18,
   "metadata": {},
   "outputs": [
    {
     "data": {
      "text/plain": [
       "array([[0.55555556, 0.73737374, 4.        ],\n",
       "       [0.90909091, 0.21212121, 3.        ],\n",
       "       [0.60606061, 0.44444444, 3.        ],\n",
       "       ...,\n",
       "       [0.51515152, 0.92929293, 0.        ],\n",
       "       [0.21212121, 0.72727273, 1.        ],\n",
       "       [0.3030303 , 0.03030303, 3.        ]])"
      ]
     },
     "execution_count": 18,
     "metadata": {},
     "output_type": "execute_result"
    }
   ],
   "source": [
    "X_train"
   ]
  },
  {
   "cell_type": "markdown",
   "metadata": {},
   "source": [
    "# Problem definition"
   ]
  },
  {
   "cell_type": "code",
   "execution_count": 6,
   "metadata": {},
   "outputs": [],
   "source": [
    "N = X_train.shape[0]  # number of points\n",
    "D = 3  # number of input dimensions\n",
    "M = 100  # number of inducing points\n",
    "L = 1  # number of latent GPs\n",
    "P = 1  # number of observations = output dimensions"
   ]
  },
  {
   "cell_type": "markdown",
   "metadata": {},
   "source": [
    "# Kernel definition"
   ]
  },
  {
   "cell_type": "code",
   "execution_count": 7,
   "metadata": {},
   "outputs": [],
   "source": [
    "class KernelWithEmbedding(gpf.kernels.Kernel):\n",
    "    def __init__(\n",
    "        self,\n",
    "        input_shape: Tuple,\n",
    "        input_dim: int,\n",
    "        output_dim: int,\n",
    "        kernels: gpf.kernels.Kernel,\n",
    "        batch_size: Optional[int] = None,\n",
    "    ):\n",
    "        super().__init__()\n",
    "        with self.name_scope:\n",
    "            self.kernels = kernels\n",
    "            self.input_shape = input_shape\n",
    "            self.input_dim = input_dim\n",
    "            self.output_dim = output_dim\n",
    "\n",
    "            data_input = tf.keras.layers.Input(shape=input_shape,name='input')\n",
    "            x = tf.keras.layers.Reshape((input_shape[0],1),input_shape=input_shape)(data_input)\n",
    "            x1= tf.keras.layers.Cropping1D(cropping=(0,1))(x) # quantitative input\n",
    "            x2= tf.keras.layers.Cropping1D(cropping=(2,0))(x) # qualitative input\n",
    "            # if you have more than one qualitative inputs:\n",
    "            #x2= tf.keras.layers.Cropping1D(cropping=(2,1))(x)\n",
    "            #x3= tf.keras.layers.Cropping1D(cropping=(3,0))(x)\n",
    "            \n",
    "            x2= tf.keras.layers.Embedding(self.input_dim, self.output_dim)(x2) # map qualittaive input to latent space\n",
    "            # if you have more than one qualitative inputs:\n",
    "            # x2= tf.keras.layers.Embedding(self.input_dim[0], self.output_dim)(x2)\n",
    "            # x3= tf.keras.layers.Embedding(self.input_dim[1], self.output_dim)(x3)\n",
    "            \n",
    "            x1=tf.keras.layers.Reshape((2,))(x1) # Reshape((dim of x1,))(x1)\n",
    "            x2=tf.keras.layers.Reshape((2,))(x2)  # Reshape((dim of latent space for x2,))(x2)\n",
    "\n",
    "            output=tf.keras.layers.concatenate([x1,x2],axis=1,dtype='float64')\n",
    "            # if you have more than one qualitative inputs:\n",
    "            #output=tf.keras.layers.concatenate([x1,x2,x3],axis=1,dtype='float64')\n",
    "\n",
    "            self.emb= tf.keras.models.Model(data_input , output)\n",
    "\n",
    "    def K(self, a_input: tf.Tensor, b_input: Optional[tf.Tensor] = None) -> tf.Tensor:\n",
    "        transformed_a = tf.squeeze(self.emb(a_input))\n",
    "        transformed_b = tf.squeeze(self.emb(b_input)) if b_input is not None else b_input\n",
    "        return self.kernels.K(transformed_a, transformed_b)\n",
    "\n",
    "    def K_diag(self, a_input: tf.Tensor) -> tf.Tensor:\n",
    "        transformed_a = tf.squeeze(self.emb(a_input))\n",
    "        return self.kernels.K_diag(transformed_a)"
   ]
  },
  {
   "cell_type": "code",
   "execution_count": 8,
   "metadata": {},
   "outputs": [],
   "source": [
    "from gpflow.inducing_variables import (\n",
    "    FallbackSeparateIndependentInducingVariables,\n",
    "    FallbackSharedIndependentInducingVariables,\n",
    "    InducingPoints,\n",
    "    SeparateIndependentInducingVariables,\n",
    "    SharedIndependentInducingVariables,\n",
    ")\n",
    "\n",
    "\n",
    "@gpflow.covariances.Kuu.register(InducingPoints, KernelWithEmbedding)\n",
    "def Kuu(inducing_variable:InducingPoints, kernel:KernelWithEmbedding, jitter=None):\n",
    "    return gpf.covariances.Kuu(inducing_variable, kernel.kernels,jitter=jitter)\n",
    "\n",
    "\n",
    "@gpflow.covariances.Kuf.register(InducingPoints, KernelWithEmbedding, object)\n",
    "def Kuf(inducing_variable:InducingPoints, kernel:KernelWithEmbedding, Xnew):\n",
    "    return gpf.covariances.Kuf(inducing_variable, kernel.kernels, kernel.emb(Xnew))"
   ]
  },
  {
   "cell_type": "markdown",
   "metadata": {},
   "source": [
    "# Instantialize the model"
   ]
  },
  {
   "cell_type": "code",
   "execution_count": 9,
   "metadata": {},
   "outputs": [],
   "source": [
    "dim_z=2\n",
    "ind_qual=[2]\n",
    "n_lvs_qual=[5]\n",
    "p_qual=1\n",
    "kernel_t=gpf.kernels.SquaredExponential(active_dims=[0])*gpf.kernels.SquaredExponential(active_dims=[1])*gpf.kernels.SquaredExponential(active_dims=range(2,4)) \n",
    "kernel=KernelWithEmbedding((3,),n_lvs_qual[0],2,kernel_t) \n",
    "arr = np.arange(N)\n",
    "np.random.shuffle(arr)\n",
    "Z_o = X_train[arr[:M], :].copy()  # Initialize inducing locations to the first M inputs in the dataset\n",
    "Zinit=kernel.emb(Z_o).numpy()\n",
    "Z = Zinit.copy()"
   ]
  },
  {
   "cell_type": "code",
   "execution_count": 10,
   "metadata": {},
   "outputs": [],
   "source": [
    "m = gpflow.models.SVGP(kernel, gpflow.likelihoods.Gaussian(), Z, num_data=N)"
   ]
  },
  {
   "cell_type": "code",
   "execution_count": 11,
   "metadata": {},
   "outputs": [
    {
     "data": {
      "text/html": [
       "&lt;gpflow.models.svgp.SVGP object at 0x000001B78CDC2248&gt;\n",
       "<table>\n",
       "<thead>\n",
       "<tr><th>name                                       </th><th>class           </th><th>transform       </th><th>prior  </th><th>trainable  </th><th>shape        </th><th>dtype  </th><th>value                                   </th></tr>\n",
       "</thead>\n",
       "<tbody>\n",
       "<tr><td>SVGP.kernel.kernels.kernels[0].variance    </td><td>Parameter       </td><td>Softplus        </td><td>       </td><td>True       </td><td>()           </td><td>float64</td><td>0.9999999999999999                      </td></tr>\n",
       "<tr><td>SVGP.kernel.kernels.kernels[0].lengthscales</td><td>Parameter       </td><td>Softplus        </td><td>       </td><td>True       </td><td>()           </td><td>float64</td><td>0.9999999999999999                      </td></tr>\n",
       "<tr><td>SVGP.kernel.kernels.kernels[1].variance    </td><td>Parameter       </td><td>Softplus        </td><td>       </td><td>True       </td><td>()           </td><td>float64</td><td>0.9999999999999999                      </td></tr>\n",
       "<tr><td>SVGP.kernel.kernels.kernels[1].lengthscales</td><td>Parameter       </td><td>Softplus        </td><td>       </td><td>True       </td><td>()           </td><td>float64</td><td>0.9999999999999999                      </td></tr>\n",
       "<tr><td>SVGP.kernel.kernels.kernels[2].variance    </td><td>Parameter       </td><td>Softplus        </td><td>       </td><td>True       </td><td>()           </td><td>float64</td><td>0.9999999999999999                      </td></tr>\n",
       "<tr><td>SVGP.kernel.kernels.kernels[2].lengthscales</td><td>Parameter       </td><td>Softplus        </td><td>       </td><td>True       </td><td>()           </td><td>float64</td><td>0.9999999999999999                      </td></tr>\n",
       "<tr><td>SVGP.kernel.emb._layers[4]._trainable_weights[0]\n",
       "SVGP.kernel.emb._layers[4].embeddings                                            </td><td>ResourceVariable</td><td>                </td><td>       </td><td>True       </td><td>(5, 2)       </td><td>float32</td><td>[[-0.03860753, 0.03171755...            </td></tr>\n",
       "<tr><td>SVGP.likelihood.variance                   </td><td>Parameter       </td><td>Softplus + Shift</td><td>       </td><td>True       </td><td>()           </td><td>float64</td><td>1.0                                     </td></tr>\n",
       "<tr><td>SVGP.inducing_variable.Z                   </td><td>Parameter       </td><td>Identity        </td><td>       </td><td>True       </td><td>(100, 4)     </td><td>float64</td><td>[[0.97979796, 0.64646465, -0.03860753...</td></tr>\n",
       "<tr><td>SVGP.q_mu                                  </td><td>Parameter       </td><td>Identity        </td><td>       </td><td>True       </td><td>(100, 1)     </td><td>float64</td><td>[[0....                                 </td></tr>\n",
       "<tr><td>SVGP.q_sqrt                                </td><td>Parameter       </td><td>FillTriangular  </td><td>       </td><td>True       </td><td>(1, 100, 100)</td><td>float64</td><td>[[[1., 0., 0....                        </td></tr>\n",
       "</tbody>\n",
       "</table>"
      ],
      "text/plain": [
       "<gpflow.models.svgp.SVGP object at 0x000001B78CDC2248>\n",
       "╒══════════════════════════════════════════════════╤══════════════════╤══════════════════╤═════════╤═════════════╤═══════════════╤═════════╤══════════════════════════════════════════╕\n",
       "│ name                                             │ class            │ transform        │ prior   │ trainable   │ shape         │ dtype   │ value                                    │\n",
       "╞══════════════════════════════════════════════════╪══════════════════╪══════════════════╪═════════╪═════════════╪═══════════════╪═════════╪══════════════════════════════════════════╡\n",
       "│ SVGP.kernel.kernels.kernels[0].variance          │ Parameter        │ Softplus         │         │ True        │ ()            │ float64 │ 0.9999999999999999                       │\n",
       "├──────────────────────────────────────────────────┼──────────────────┼──────────────────┼─────────┼─────────────┼───────────────┼─────────┼──────────────────────────────────────────┤\n",
       "│ SVGP.kernel.kernels.kernels[0].lengthscales      │ Parameter        │ Softplus         │         │ True        │ ()            │ float64 │ 0.9999999999999999                       │\n",
       "├──────────────────────────────────────────────────┼──────────────────┼──────────────────┼─────────┼─────────────┼───────────────┼─────────┼──────────────────────────────────────────┤\n",
       "│ SVGP.kernel.kernels.kernels[1].variance          │ Parameter        │ Softplus         │         │ True        │ ()            │ float64 │ 0.9999999999999999                       │\n",
       "├──────────────────────────────────────────────────┼──────────────────┼──────────────────┼─────────┼─────────────┼───────────────┼─────────┼──────────────────────────────────────────┤\n",
       "│ SVGP.kernel.kernels.kernels[1].lengthscales      │ Parameter        │ Softplus         │         │ True        │ ()            │ float64 │ 0.9999999999999999                       │\n",
       "├──────────────────────────────────────────────────┼──────────────────┼──────────────────┼─────────┼─────────────┼───────────────┼─────────┼──────────────────────────────────────────┤\n",
       "│ SVGP.kernel.kernels.kernels[2].variance          │ Parameter        │ Softplus         │         │ True        │ ()            │ float64 │ 0.9999999999999999                       │\n",
       "├──────────────────────────────────────────────────┼──────────────────┼──────────────────┼─────────┼─────────────┼───────────────┼─────────┼──────────────────────────────────────────┤\n",
       "│ SVGP.kernel.kernels.kernels[2].lengthscales      │ Parameter        │ Softplus         │         │ True        │ ()            │ float64 │ 0.9999999999999999                       │\n",
       "├──────────────────────────────────────────────────┼──────────────────┼──────────────────┼─────────┼─────────────┼───────────────┼─────────┼──────────────────────────────────────────┤\n",
       "│ SVGP.kernel.emb._layers[4]._trainable_weights[0] │ ResourceVariable │                  │         │ True        │ (5, 2)        │ float32 │ [[-0.03860753, 0.03171755...             │\n",
       "│ SVGP.kernel.emb._layers[4].embeddings            │                  │                  │         │             │               │         │                                          │\n",
       "├──────────────────────────────────────────────────┼──────────────────┼──────────────────┼─────────┼─────────────┼───────────────┼─────────┼──────────────────────────────────────────┤\n",
       "│ SVGP.likelihood.variance                         │ Parameter        │ Softplus + Shift │         │ True        │ ()            │ float64 │ 1.0                                      │\n",
       "├──────────────────────────────────────────────────┼──────────────────┼──────────────────┼─────────┼─────────────┼───────────────┼─────────┼──────────────────────────────────────────┤\n",
       "│ SVGP.inducing_variable.Z                         │ Parameter        │ Identity         │         │ True        │ (100, 4)      │ float64 │ [[0.97979796, 0.64646465, -0.03860753... │\n",
       "├──────────────────────────────────────────────────┼──────────────────┼──────────────────┼─────────┼─────────────┼───────────────┼─────────┼──────────────────────────────────────────┤\n",
       "│ SVGP.q_mu                                        │ Parameter        │ Identity         │         │ True        │ (100, 1)      │ float64 │ [[0....                                  │\n",
       "├──────────────────────────────────────────────────┼──────────────────┼──────────────────┼─────────┼─────────────┼───────────────┼─────────┼──────────────────────────────────────────┤\n",
       "│ SVGP.q_sqrt                                      │ Parameter        │ FillTriangular   │         │ True        │ (1, 100, 100) │ float64 │ [[[1., 0., 0....                         │\n",
       "╘══════════════════════════════════════════════════╧══════════════════╧══════════════════╧═════════╧═════════════╧═══════════════╧═════════╧══════════════════════════════════════════╛"
      ]
     },
     "execution_count": 11,
     "metadata": {},
     "output_type": "execute_result"
    }
   ],
   "source": [
    "m"
   ]
  },
  {
   "cell_type": "markdown",
   "metadata": {},
   "source": [
    "# Training"
   ]
  },
  {
   "cell_type": "code",
   "execution_count": 12,
   "metadata": {},
   "outputs": [],
   "source": [
    "minibatch_size = 100\n",
    "\n",
    "train_dataset = tf.data.Dataset.from_tensor_slices((X_train, y_train)).repeat().shuffle(N)\n",
    "\n",
    "train_iter = iter(train_dataset.batch(minibatch_size))"
   ]
  },
  {
   "cell_type": "code",
   "execution_count": 13,
   "metadata": {},
   "outputs": [],
   "source": [
    "import gpflow \n",
    "minibatch_size = 100\n",
    "\n",
    "# We turn off training for inducing point locations\n",
    "gpflow.set_trainable(m.inducing_variable, True)\n",
    "# gpflow.set_trainable(m.z_vec, True)\n",
    "gpflow.set_trainable(m.kernel.kernels.kernels[1].variance,False)\n",
    "gpflow.set_trainable(m.kernel.kernels.kernels[2].variance,False)\n",
    "\n",
    "gpflow.set_trainable(m.q_mu, False)\n",
    "gpflow.set_trainable(m.q_sqrt, False)\n",
    "\n",
    "\n",
    "def run_adam(model, iterations):\n",
    "    \"\"\"\n",
    "    Utility function running the Adam optimizer\n",
    "\n",
    "    :param model: GPflow model\n",
    "    :param interations: number of iterations\n",
    "    \"\"\"\n",
    "    # Create an Adam Optimizer action\n",
    "    logf = []\n",
    "    train_iter = iter(train_dataset.batch(minibatch_size))\n",
    "    training_loss = model.training_loss_closure(train_iter, compile=True)\n",
    "    natgrad_adam_opt = tf.optimizers.Adam()\n",
    "    natgrad_opt = gpflow.optimizers.NaturalGradient(gamma=0.1)\n",
    "    variational_params = [(model.q_mu, model.q_sqrt)]\n",
    "\n",
    "    @tf.function\n",
    "    def optimization_step():\n",
    "        natgrad_adam_opt.minimize(training_loss, model.trainable_variables)\n",
    "        natgrad_opt.minimize(training_loss, var_list=variational_params)\n",
    "\n",
    "    for step in range(iterations):\n",
    "        optimization_step()\n",
    "        if step % 10 == 0:\n",
    "            elbo = -training_loss().numpy()\n",
    "            logf.append(elbo)\n",
    "    return logf"
   ]
  },
  {
   "cell_type": "code",
   "execution_count": 14,
   "metadata": {},
   "outputs": [
    {
     "data": {
      "image/png": "[encoded data removed]",
      "text/plain": [
       "<Figure size 432x288 with 1 Axes>"
      ]
     },
     "metadata": {
      "needs_background": "light"
     },
     "output_type": "display_data"
    }
   ],
   "source": [
    "import time\n",
    "maxiter = ci_niter(20000)\n",
    "\n",
    "time_start=time.time()\n",
    "logf = run_adam(m, maxiter)\n",
    "time_end=time.time()\n",
    "plt.plot(np.arange(maxiter)[::10], logf)\n",
    "plt.xlabel(\"iteration\")\n",
    "_ = plt.ylabel(\"ELBO\")"
   ]
  },
  {
   "cell_type": "code",
   "execution_count": 15,
   "metadata": {},
   "outputs": [
    {
     "data": {
      "text/plain": [
       "0.4234600096061353"
      ]
     },
     "execution_count": 15,
     "metadata": {},
     "output_type": "execute_result"
    }
   ],
   "source": [
    "from sklearn.metrics import mean_squared_error\n",
    "from sklearn.metrics import r2_score\n",
    "pY, pYv = m.predict_y(X_test)\n",
    "YtR= y_test*np.tile(Yrange,( y_test.shape[0],1))+np.tile(Ymin,( y_test.shape[0],1))\n",
    "pYR=pY*np.tile(Yrange,(pY.shape[0],1))+np.tile(Ymin,(pY.shape[0],1))\n",
    "r2_score(YtR,pYR,multioutput='raw_values')\n",
    "np.sqrt(mean_squared_error(YtR,pYR))"
   ]
  },
  {
   "cell_type": "code",
   "execution_count": null,
   "metadata": {},
   "outputs": [],
   "source": []
  }
 ],
 "metadata": {
  "kernelspec": {
   "display_name": "Python 3",
   "language": "python",
   "name": "python3"
  },
  "language_info": {
   "codemirror_mode": {
    "name": "ipython",
    "version": 3
   },
   "file_extension": ".py",
   "mimetype": "text/x-python",
   "name": "python",
   "nbconvert_exporter": "python",
   "pygments_lexer": "ipython3",
   "version": "3.9.16"
  }
 },
 "nbformat": 4,
 "nbformat_minor": 2
}
